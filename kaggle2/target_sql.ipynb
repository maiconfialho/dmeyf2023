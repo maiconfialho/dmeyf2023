{
 "cells": [
  {
   "cell_type": "code",
   "execution_count": 13,
   "metadata": {},
   "outputs": [
    {
     "name": "stdout",
     "output_type": "stream",
     "text": [
      "The sql extension is already loaded. To reload it, use:\n",
      "  %reload_ext sql\n",
      "\u001b[33mThere's a new jupysql version available (0.10.2), you're running 0.10.0. To upgrade: pip install jupysql --upgrade\u001b[0m\n"
     ]
    }
   ],
   "source": [
    "import duckdb\n",
    "import pandas as pd\n",
    "\n",
    "%load_ext sql\n",
    "%config SqlMagic.autopandas = True\n",
    "%config SqlMagic.feedback = False\n",
    "%config SqlMagic.displaycon = False\n",
    "\n",
    "%sql duckdb:///:default:"
   ]
  },
  {
   "cell_type": "code",
   "execution_count": 14,
   "metadata": {},
   "outputs": [
    {
     "data": {
      "text/html": [
       "<div>\n",
       "<style scoped>\n",
       "    .dataframe tbody tr th:only-of-type {\n",
       "        vertical-align: middle;\n",
       "    }\n",
       "\n",
       "    .dataframe tbody tr th {\n",
       "        vertical-align: top;\n",
       "    }\n",
       "\n",
       "    .dataframe thead th {\n",
       "        text-align: right;\n",
       "    }\n",
       "</style>\n",
       "<table border=\"1\" class=\"dataframe\">\n",
       "  <thead>\n",
       "    <tr style=\"text-align: right;\">\n",
       "      <th></th>\n",
       "      <th>'hola mundo'</th>\n",
       "    </tr>\n",
       "  </thead>\n",
       "  <tbody>\n",
       "    <tr>\n",
       "      <th>0</th>\n",
       "      <td>hola mundo</td>\n",
       "    </tr>\n",
       "  </tbody>\n",
       "</table>\n",
       "</div>"
      ],
      "text/plain": [
       "  'hola mundo'\n",
       "0   hola mundo"
      ]
     },
     "execution_count": 14,
     "metadata": {},
     "output_type": "execute_result"
    }
   ],
   "source": [
    "%%sql\n",
    "select 'hola mundo' "
   ]
  },
  {
   "cell_type": "code",
   "execution_count": 15,
   "metadata": {},
   "outputs": [],
   "source": [
    "%%sql\n",
    "create or replace table competencia_02 as \n",
    "select \n",
    "    *\n",
    "from read_csv_auto('../datasets/competencia_02_crudo.csv')"
   ]
  },
  {
   "cell_type": "code",
   "execution_count": null,
   "metadata": {},
   "outputs": [
    {
     "data": {
      "text/html": [
       "<div>\n",
       "<style scoped>\n",
       "    .dataframe tbody tr th:only-of-type {\n",
       "        vertical-align: middle;\n",
       "    }\n",
       "\n",
       "    .dataframe tbody tr th {\n",
       "        vertical-align: top;\n",
       "    }\n",
       "\n",
       "    .dataframe thead th {\n",
       "        text-align: right;\n",
       "    }\n",
       "</style>\n",
       "<table border=\"1\" class=\"dataframe\">\n",
       "  <thead>\n",
       "    <tr style=\"text-align: right;\">\n",
       "      <th></th>\n",
       "      <th>Success</th>\n",
       "    </tr>\n",
       "  </thead>\n",
       "  <tbody>\n",
       "  </tbody>\n",
       "</table>\n",
       "</div>"
      ],
      "text/plain": [
       "Empty DataFrame\n",
       "Columns: [Success]\n",
       "Index: []"
      ]
     },
     "execution_count": 11,
     "metadata": {},
     "output_type": "execute_result"
    }
   ],
   "source": [
    "%%sql\n",
    "create or replace table competencia_02 as \n",
    "\n",
    "with max_db as \n",
    "    (\n",
    "        select max(foto_mes) as max_foto_mes_db\n",
    "        from competencia_02\n",
    "    )\n",
    "select c.*,\n",
    "    case\n",
    "        when max_db.max_foto_mes_db = max_numero_de_cliente.max_foto_mes then 'CONTINUA'\n",
    "        when CAST(SUBSTRING(max_numero_de_cliente.max_foto_mes, 1, 4) AS INTEGER) * 12 + CAST(SUBSTRING(max_numero_de_cliente.max_foto_mes, 5, 2) AS INTEGER) -\n",
    "           (CAST(SUBSTRING(c.foto_mes, 1, 4) AS INTEGER) * 12 + CAST(SUBSTRING(c.foto_mes, 5, 2) AS INTEGER)) =  0 then 'BAJA+1'\n",
    "        when CAST(SUBSTRING(max_numero_de_cliente.max_foto_mes, 1, 4) AS INTEGER) * 12 + CAST(SUBSTRING(max_numero_de_cliente.max_foto_mes, 5, 2) AS INTEGER) -\n",
    "           (CAST(SUBSTRING(c.foto_mes, 1, 4) AS INTEGER) * 12 + CAST(SUBSTRING(c.foto_mes, 5, 2) AS INTEGER)) == 1 then 'BAJA+2'\n",
    "         when CAST(SUBSTRING(max_numero_de_cliente.max_foto_mes, 1, 4) AS INTEGER) * 12 + CAST(SUBSTRING(max_numero_de_cliente.max_foto_mes, 5, 2) AS INTEGER) -\n",
    "           (CAST(SUBSTRING(c.foto_mes, 1, 4) AS INTEGER) * 12 + CAST(SUBSTRING(c.foto_mes, 5, 2) AS INTEGER)) > 1 then 'CONTINUA'\n",
    "    end as clase_ternaria\n",
    "from competencia_02 c\n",
    "    cross join max_db\n",
    "    left join \n",
    "        (\n",
    "            select numero_de_cliente, max(foto_mes) as max_foto_mes\n",
    "            from competencia_02\n",
    "            group by numero_de_cliente\n",
    "        ) max_numero_de_cliente on max_numero_de_cliente.numero_de_cliente = c.numero_de_cliente "
   ]
  },
  {
   "cell_type": "code",
   "execution_count": null,
   "metadata": {},
   "outputs": [
    {
     "name": "stderr",
     "output_type": "stream",
     "text": [
      "UsageError: Cell magic `%%sql` not found.\n"
     ]
    }
   ],
   "source": [
    "%%sql\n",
    "COPY competencia_02 TO '../datasets/competencia_02.csv' (FORMAT CSV, HEADER)\n"
   ]
  }
 ],
 "metadata": {
  "kernelspec": {
   "display_name": "Python 3",
   "language": "python",
   "name": "python3"
  },
  "language_info": {
   "codemirror_mode": {
    "name": "ipython",
    "version": 3
   },
   "file_extension": ".py",
   "mimetype": "text/x-python",
   "name": "python",
   "nbconvert_exporter": "python",
   "pygments_lexer": "ipython3",
   "version": "3.11.5"
  },
  "orig_nbformat": 4
 },
 "nbformat": 4,
 "nbformat_minor": 2
}
